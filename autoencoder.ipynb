{
 "cells": [
  {
   "cell_type": "code",
   "execution_count": 1,
   "id": "7d37ec78-5215-4ee6-8c87-bcb607ece22f",
   "metadata": {},
   "outputs": [],
   "source": [
    "import tensorflow as tf\n",
    "from tensorflow.keras import utils\n",
    "from tensorflow.keras import layers\n",
    "from tensorflow.keras import losses\n",
    "from tensorflow.keras import preprocessing\n",
    "\n",
    "import numpy as np\n",
    "import matplotlib.pyplot as plt\n",
    "import string\n",
    "import pathlib"
   ]
  },
  {
   "cell_type": "code",
   "execution_count": 9,
   "id": "7508e2ba-786b-4648-8c1f-8e3ef0e49367",
   "metadata": {},
   "outputs": [],
   "source": [
    "charset = ''.join([\n",
    "    string.ascii_lowercase,\n",
    "#     string.ascii_uppercase,\n",
    "#     string.digits,\n",
    "#     string.punctuation,\n",
    "    ' '\n",
    "])"
   ]
  },
  {
   "cell_type": "code",
   "execution_count": 4,
   "id": "dcd2fc93-37a2-438f-9cab-6ba9c2bccc8d",
   "metadata": {},
   "outputs": [],
   "source": [
    "data_url = 'https://storage.googleapis.com/download.tensorflow.org/data/stack_overflow_16k.tar.gz'\n",
    "dataset_dir = utils.get_file(\n",
    "    'so_text_dataset',\n",
    "    origin=data_url,\n",
    "    untar=True,\n",
    "    cache_dir='stack_overflow',\n",
    "    cache_subdir='')"
   ]
  },
  {
   "cell_type": "code",
   "execution_count": 5,
   "id": "061335d4-f2be-468a-9d9b-cac2d4cbfdc9",
   "metadata": {},
   "outputs": [],
   "source": [
    "dataset_dir = pathlib.Path(dataset_dir).parent"
   ]
  },
  {
   "cell_type": "code",
   "execution_count": 6,
   "id": "154fdd5e-b5b5-416b-8f26-f490f2f48b12",
   "metadata": {},
   "outputs": [
    {
     "data": {
      "text/plain": [
       "WindowsPath('/tmp/.keras')"
      ]
     },
     "execution_count": 6,
     "metadata": {},
     "output_type": "execute_result"
    }
   ],
   "source": [
    "dataset_dir"
   ]
  },
  {
   "cell_type": "code",
   "execution_count": 7,
   "id": "8fe58cc1-893f-4d77-a677-a069821a11d2",
   "metadata": {},
   "outputs": [
    {
     "name": "stdout",
     "output_type": "stream",
     "text": [
      "Found 8000 files belonging to 4 classes.\n",
      "Using 6400 files for training.\n"
     ]
    }
   ],
   "source": [
    "raw_train_ds = preprocessing.text_dataset_from_directory(\n",
    "    dataset_dir/'train',\n",
    "    batch_size=1,\n",
    "    validation_split=0.2,\n",
    "    subset='training',\n",
    "    seed=42)"
   ]
  },
  {
   "cell_type": "code",
   "execution_count": 10,
   "id": "f952dff7-4bbd-49d7-bba7-c62230eca344",
   "metadata": {
    "tags": []
   },
   "outputs": [
    {
     "data": {
      "text/plain": [
       "<tf.Tensor: shape=(9, 27), dtype=float32, numpy=\n",
       "array([[0., 0., 0., 0., 0., 0., 0., 0., 0., 0., 0., 0., 0., 0., 0., 0.,\n",
       "        0., 0., 0., 1., 0., 0., 0., 0., 0., 0., 0.],\n",
       "       [0., 0., 0., 0., 1., 0., 0., 0., 0., 0., 0., 0., 0., 0., 0., 0.,\n",
       "        0., 0., 0., 0., 0., 0., 0., 0., 0., 0., 0.],\n",
       "       [0., 0., 0., 0., 0., 0., 0., 0., 0., 0., 0., 0., 0., 0., 0., 0.,\n",
       "        0., 0., 1., 0., 0., 0., 0., 0., 0., 0., 0.],\n",
       "       [0., 0., 0., 0., 0., 0., 0., 0., 0., 0., 0., 0., 0., 0., 0., 0.,\n",
       "        0., 0., 0., 1., 0., 0., 0., 0., 0., 0., 0.],\n",
       "       [0., 0., 0., 0., 0., 0., 0., 0., 0., 0., 0., 0., 0., 0., 0., 0.,\n",
       "        0., 0., 0., 0., 0., 0., 0., 0., 0., 0., 1.],\n",
       "       [0., 0., 0., 1., 0., 0., 0., 0., 0., 0., 0., 0., 0., 0., 0., 0.,\n",
       "        0., 0., 0., 0., 0., 0., 0., 0., 0., 0., 0.],\n",
       "       [1., 0., 0., 0., 0., 0., 0., 0., 0., 0., 0., 0., 0., 0., 0., 0.,\n",
       "        0., 0., 0., 0., 0., 0., 0., 0., 0., 0., 0.],\n",
       "       [0., 0., 0., 0., 0., 0., 0., 0., 0., 0., 0., 0., 0., 0., 0., 0.,\n",
       "        0., 0., 0., 1., 0., 0., 0., 0., 0., 0., 0.],\n",
       "       [1., 0., 0., 0., 0., 0., 0., 0., 0., 0., 0., 0., 0., 0., 0., 0.,\n",
       "        0., 0., 0., 0., 0., 0., 0., 0., 0., 0., 0.]], dtype=float32)>"
      ]
     },
     "execution_count": 10,
     "metadata": {},
     "output_type": "execute_result"
    }
   ],
   "source": [
    "def one_hot(text):\n",
    "    s = '[SEP]'\n",
    "#     encoded = tf.keras.preprocessing.text.one_hot(\n",
    "#         s.join(text),\n",
    "#         len(charset),\n",
    "#         filters='\\t\\n',\n",
    "#         lower=False, split=s\n",
    "#     )\n",
    "    text = text.lower()\n",
    "    encoded = []\n",
    "    for c in text:\n",
    "        if c in charset:\n",
    "            encoded.append(charset.index(c))\n",
    "        else:\n",
    "            encoded.append(charset.index(' '))\n",
    "    encoded = tf.one_hot(encoded, len(charset))\n",
    "    return encoded\n",
    "\n",
    "one_hot('test data')"
   ]
  },
  {
   "cell_type": "code",
   "execution_count": 26,
   "id": "1255a647-8994-41ab-b3f8-80958967579f",
   "metadata": {},
   "outputs": [],
   "source": [
    "def prep_data(x):\n",
    "    x = x.numpy().decode('UTF-8')\n",
    "    x = x[:50]\n",
    "    c = one_hot(x + ' ' * (50 - len(x)))\n",
    "    return c"
   ]
  },
  {
   "cell_type": "code",
   "execution_count": 116,
   "id": "f5fdada0-6c5e-4e58-b87b-bd9e61293431",
   "metadata": {
    "tags": []
   },
   "outputs": [],
   "source": [
    "def preprocess(n=250):\n",
    "    text_data = []\n",
    "    for a, b in raw_train_ds.take(n):\n",
    "    #     print(len(a), len(b))\n",
    "    #     for i in range(5):\n",
    "    #         print(a[i])\n",
    "    #         print(b[i])\n",
    "    #     print(a[0].numpy().decode('ascii'))\n",
    "        text_data.append(prep_data(a[0]).numpy())\n",
    "    text_data = np.stack(text_data)\n",
    "    return text_data"
   ]
  },
  {
   "cell_type": "code",
   "execution_count": 29,
   "id": "a8b07150-e2d0-4096-bd25-aac7c7326f3a",
   "metadata": {
    "tags": []
   },
   "outputs": [
    {
     "data": {
      "text/plain": [
       "(100, 50, 27)"
      ]
     },
     "execution_count": 29,
     "metadata": {},
     "output_type": "execute_result"
    }
   ],
   "source": [
    "text_data.shape"
   ]
  },
  {
   "cell_type": "code",
   "execution_count": 432,
   "id": "cf0a0c57-9ec5-47c9-8d09-7726e282f080",
   "metadata": {},
   "outputs": [],
   "source": [
    "num_chars = len(charset)\n",
    "model = tf.keras.models.Sequential()\n",
    "\n",
    "encoder_shape = []\n",
    "\n",
    "encoder_layers = [\n",
    "    layers.LSTM(10, input_shape=(50, num_chars,), activation='tanh', return_sequences=True),\n",
    "    layers.LSTM(10, input_shape=(50, num_chars,), activation='tanh', return_sequences=False),\n",
    "    layers.Dense(5, activation='tanh'),\n",
    "    layers.Dense(2, activation='tanh')\n",
    "]\n",
    "decoder_layers = [\n",
    "    layers.Dense(4, activation='tanh'),\n",
    "    layers.RepeatVector(50),\n",
    "    layers.Dense(10, activation='tanh'),\n",
    "    layers.LSTM(num_chars, return_sequences=True, activation='tanh'),\n",
    "]\n",
    "for l in encoder_layers + decoder_layers:\n",
    "    model.add(l)\n",
    "\n",
    "# model.summary()"
   ]
  },
  {
   "cell_type": "code",
   "execution_count": 433,
   "id": "c4cb66bd-2499-4040-b40a-5f98d0b43ff5",
   "metadata": {},
   "outputs": [
    {
     "name": "stdout",
     "output_type": "stream",
     "text": [
      "jjjjjllllqqqqqqqqqqqqqqqqqqqqqqqqqqqqqqqqqqqqqqqqq 50\n"
     ]
    }
   ],
   "source": [
    "def decode(t):\n",
    "    return ''.join(charset[int(np.clip(0, len(charset)-1, i))] for i in tf.argmax(t[0], axis=1))\n",
    "\n",
    "def run_encoder(pred):\n",
    "    for l in encoder_layers:\n",
    "        pred = l(pred)\n",
    "    return pred\n",
    "\n",
    "def sample():\n",
    "    noise = np.random.uniform(0, 1, [1, 2])\n",
    "    pred = noise\n",
    "    for l in decoder_layers:\n",
    "        pred = l(pred)\n",
    "    y = decode(pred)\n",
    "    return y\n",
    "\n",
    "f = sample()\n",
    "print(f, len(f))\n",
    "# reconstruct()"
   ]
  },
  {
   "cell_type": "code",
   "execution_count": 434,
   "id": "5e8b82d5-5647-4200-a2af-01902939d740",
   "metadata": {
    "collapsed": true,
    "jupyter": {
     "outputs_hidden": true
    },
    "tags": []
   },
   "outputs": [
    {
     "data": {
      "text/plain": [
       "<tf.Tensor: shape=(1000, 50, 27), dtype=float32, numpy=\n",
       "array([[[ 5.99369360e-03, -2.52126437e-03,  9.52605903e-03, ...,\n",
       "          4.59741335e-03, -2.17207032e-03,  3.39268649e-04],\n",
       "        [ 1.02015305e-02, -3.77408531e-03,  1.65513046e-02, ...,\n",
       "          8.17200635e-03, -3.63327703e-03,  2.52650847e-04],\n",
       "        [ 1.30753918e-02, -4.19575162e-03,  2.17463411e-02, ...,\n",
       "          1.10618109e-02, -4.64696018e-03,  1.77452857e-05],\n",
       "        ...,\n",
       "        [ 1.53816529e-02, -6.52547518e-04,  3.48177925e-02, ...,\n",
       "          2.34297365e-02, -9.32294037e-03,  1.76843349e-03],\n",
       "        [ 1.53821986e-02, -6.53189316e-04,  3.48168388e-02, ...,\n",
       "          2.34300252e-02, -9.32280906e-03,  1.76893536e-03],\n",
       "        [ 1.53826550e-02, -6.53709751e-04,  3.48160565e-02, ...,\n",
       "          2.34303009e-02, -9.32269823e-03,  1.76934188e-03]],\n",
       "\n",
       "       [[-2.87705031e-03,  1.44765945e-03, -3.09131178e-03, ...,\n",
       "         -1.87631929e-03,  5.04375726e-04,  3.99514625e-04],\n",
       "        [-4.84738313e-03,  2.33318005e-03, -5.36815822e-03, ...,\n",
       "         -3.38127674e-03,  9.01338295e-04,  7.29097403e-04],\n",
       "        [-6.16750959e-03,  2.82643689e-03, -7.05471914e-03, ...,\n",
       "         -4.63591795e-03,  1.22757349e-03,  9.82910395e-04],\n",
       "        ...,\n",
       "        [-7.18553271e-03,  2.30233278e-03, -1.15169166e-02, ...,\n",
       "         -1.06360512e-02,  3.53300269e-03,  7.83756492e-04],\n",
       "        [-7.18573947e-03,  2.30258657e-03, -1.15164910e-02, ...,\n",
       "         -1.06361602e-02,  3.53298150e-03,  7.83549272e-04],\n",
       "        [-7.18591129e-03,  2.30279355e-03, -1.15161343e-02, ...,\n",
       "         -1.06362607e-02,  3.53296218e-03,  7.83382275e-04]],\n",
       "\n",
       "       [[ 5.42277179e-04, -2.65614290e-05,  2.03422899e-03, ...,\n",
       "          7.16341543e-04, -6.32079900e-04,  5.24940086e-04],\n",
       "        [ 9.31946677e-04,  1.00515172e-04,  3.50750587e-03, ...,\n",
       "          1.23660290e-03, -1.01434602e-03,  7.81480630e-04],\n",
       "        [ 1.19550328e-03,  3.10799223e-04,  4.58041392e-03, ...,\n",
       "          1.63335691e-03, -1.24021631e-03,  8.97967315e-04],\n",
       "        ...,\n",
       "        [ 1.30983815e-03,  1.53579551e-03,  7.08672870e-03, ...,\n",
       "          3.15908249e-03, -1.55371195e-03,  1.70367141e-03],\n",
       "        [ 1.30993023e-03,  1.53564103e-03,  7.08655035e-03, ...,\n",
       "          3.15917749e-03, -1.55364885e-03,  1.70381181e-03],\n",
       "        [ 1.31000322e-03,  1.53551507e-03,  7.08640227e-03, ...,\n",
       "          3.15926224e-03, -1.55359716e-03,  1.70392636e-03]],\n",
       "\n",
       "       ...,\n",
       "\n",
       "       [[-2.90297135e-03,  1.57345214e-03, -2.44931062e-03, ...,\n",
       "         -1.72017526e-03,  2.62891292e-04,  6.82888669e-04],\n",
       "        [-4.88661509e-03,  2.60166731e-03, -4.26839152e-03, ...,\n",
       "         -3.12563544e-03,  5.21922368e-04,  1.16487802e-03],\n",
       "        [-6.21725712e-03,  3.23887588e-03, -5.62630640e-03, ...,\n",
       "         -4.31392901e-03,  7.74914515e-04,  1.49904902e-03],\n",
       "        ...,\n",
       "        [-7.29136774e-03,  3.21258814e-03, -9.37453657e-03, ...,\n",
       "         -1.01291472e-02,  3.16035235e-03,  1.68121303e-03],\n",
       "        [-7.29155354e-03,  3.21278488e-03, -9.37416218e-03, ...,\n",
       "         -1.01292171e-02,  3.16036283e-03,  1.68105960e-03],\n",
       "        [-7.29171000e-03,  3.21294530e-03, -9.37385019e-03, ...,\n",
       "         -1.01292860e-02,  3.16036888e-03,  1.68093655e-03]],\n",
       "\n",
       "       [[-2.72442657e-03,  1.50045275e-03, -2.16030981e-03, ...,\n",
       "         -1.57853460e-03,  1.95473578e-04,  6.99323602e-04],\n",
       "        [-4.58537787e-03,  2.49377289e-03, -3.76899540e-03, ...,\n",
       "         -2.87405681e-03,  4.09140863e-04,  1.18294894e-03],\n",
       "        [-5.83427027e-03,  3.12110712e-03, -4.97270329e-03, ...,\n",
       "         -3.97304539e-03,  6.30787748e-04,  1.51288696e-03],\n",
       "        ...,\n",
       "        [-6.85445918e-03,  3.20187234e-03, -8.33537057e-03, ...,\n",
       "         -9.37797874e-03,  2.88353767e-03,  1.76133623e-03],\n",
       "        [-6.85462821e-03,  3.20204510e-03, -8.33502971e-03, ...,\n",
       "         -9.37803648e-03,  2.88355374e-03,  1.76120433e-03],\n",
       "        [-6.85477071e-03,  3.20218550e-03, -8.33474752e-03, ...,\n",
       "         -9.37809516e-03,  2.88356468e-03,  1.76109874e-03]],\n",
       "\n",
       "       [[-4.68441751e-04,  3.88618762e-04,  3.88876477e-04, ...,\n",
       "         -7.84889999e-05, -2.47976481e-04,  4.38193703e-04],\n",
       "        [-7.81190873e-04,  7.15010043e-04,  6.56712742e-04, ...,\n",
       "         -1.75121633e-04, -3.72636074e-04,  6.90847344e-04],\n",
       "        [-9.91635025e-04,  9.83394217e-04,  8.42112000e-04, ...,\n",
       "         -2.77916668e-04, -4.20916302e-04,  8.35499959e-04],\n",
       "        ...,\n",
       "        [-1.21903257e-03,  1.58402813e-03,  1.12678669e-03, ...,\n",
       "         -9.63663566e-04,  3.61137500e-05,  1.29108981e-03],\n",
       "        [-1.21903431e-03,  1.58399751e-03,  1.12678902e-03, ...,\n",
       "         -9.63631028e-04,  3.61495659e-05,  1.29112613e-03],\n",
       "        [-1.21903804e-03,  1.58397236e-03,  1.12679054e-03, ...,\n",
       "         -9.63604427e-04,  3.61780876e-05,  1.29115663e-03]]],\n",
       "      dtype=float32)>"
      ]
     },
     "execution_count": 434,
     "metadata": {},
     "output_type": "execute_result"
    }
   ],
   "source": [
    "model(text_data)"
   ]
  },
  {
   "cell_type": "code",
   "execution_count": 445,
   "id": "0c34f5c0-80a4-4bf9-b91e-6d32a11be531",
   "metadata": {},
   "outputs": [],
   "source": [
    "model.compile(\n",
    "    tf.keras.optimizers.Adam(learning_rate=0.001),\n",
    "    losses.mean_squared_error\n",
    "#     loss=tf.edit_distance\n",
    ")"
   ]
  },
  {
   "cell_type": "code",
   "execution_count": 443,
   "id": "05537170-7c4e-48a8-9ef1-785ac56e74ee",
   "metadata": {
    "scrolled": true,
    "tags": []
   },
   "outputs": [],
   "source": [
    "text_data = preprocess(1000)"
   ]
  },
  {
   "cell_type": "code",
   "execution_count": null,
   "id": "ca8c2d7b-7777-43a5-a5b3-82a1ab4ffb23",
   "metadata": {
    "scrolled": true,
    "tags": []
   },
   "outputs": [],
   "source": [
    "history = model.fit(text_data, text_data, epochs=100)"
   ]
  },
  {
   "cell_type": "code",
   "execution_count": 88,
   "id": "e178bdc1-dd54-4019-8185-c610edc7e601",
   "metadata": {},
   "outputs": [],
   "source": [
    "import tensorflow.python.ops.numpy_ops.np_config as npcfg\n",
    "npcfg.enable_numpy_behavior()"
   ]
  },
  {
   "cell_type": "code",
   "execution_count": 441,
   "id": "200d9987-351a-48bd-8b61-5fdd50baf52b",
   "metadata": {
    "tags": []
   },
   "outputs": [
    {
     "data": {
      "image/png": "[encoded data removed]",
      "text/plain": [
       "<Figure size 432x288 with 1 Axes>"
      ]
     },
     "metadata": {},
     "output_type": "display_data"
    }
   ],
   "source": [
    "# import matplotlib.pyplot as plt\n",
    "%matplotlib inline\n",
    "plt.style.use('fivethirtyeight')\n",
    "# text_data = preprocess(1000)\n",
    "plt.scatter(*run_encoder(text_data).T, alpha=1, s=6)\n",
    "plt.show()"
   ]
  },
  {
   "cell_type": "code",
   "execution_count": 438,
   "id": "4fb7d8e0-b132-400b-b0f0-86b2db712856",
   "metadata": {},
   "outputs": [
    {
     "data": {
      "text/plain": [
       "[<matplotlib.lines.Line2D at 0x1ee44c6fa60>]"
      ]
     },
     "execution_count": 438,
     "metadata": {},
     "output_type": "execute_result"
    },
    {
     "data": {
      "image/png": "[encoded data removed]",
      "text/plain": [
       "<Figure size 432x288 with 1 Axes>"
      ]
     },
     "metadata": {},
     "output_type": "display_data"
    }
   ],
   "source": [
    "plt.plot(history.history['loss'])"
   ]
  },
  {
   "cell_type": "code",
   "execution_count": 439,
   "id": "0d4f381a-c524-428e-b29d-e7fab8609b39",
   "metadata": {},
   "outputs": [
    {
     "data": {
      "text/plain": [
       "' hoa t                                            '"
      ]
     },
     "execution_count": 439,
     "metadata": {},
     "output_type": "execute_result"
    }
   ],
   "source": [
    "def reconstruct():\n",
    "    return decode(model(text_data))\n",
    "    \n",
    "reconstruct()"
   ]
  },
  {
   "cell_type": "code",
   "execution_count": 440,
   "id": "74b6c962-d1f4-490e-988c-11e0436f05ef",
   "metadata": {},
   "outputs": [
    {
     "name": "stdout",
     "output_type": "stream",
     "text": [
      " ho                                               \n",
      " ho                                               \n",
      " ho                                               \n",
      " hoe teeeeeeeeeeeeeeeeeeeeeeeeeeeeeeeeeeeeeeeeeeee\n",
      " heeeeeeeeeeeeeeeeeeeeeeeeeeeeeeeeeeeeeeeeeeeeeeee\n",
      " ho                                               \n",
      " ho                                               \n",
      " hoa n                                            \n",
      " blannnn ninnnnnnnnnnnnnnnnnniiiii                \n",
      " boa n                                            \n"
     ]
    }
   ],
   "source": [
    "for x in range(10):\n",
    "    print(sample())"
   ]
  },
  {
   "cell_type": "code",
   "execution_count": null,
   "id": "07aa7c92-b4ed-400b-9c67-abcecbc5ae15",
   "metadata": {},
   "outputs": [],
   "source": []
  }
 ],
 "metadata": {
  "kernelspec": {
   "display_name": "Python 3",
   "language": "python",
   "name": "python3"
  },
  "language_info": {
   "codemirror_mode": {
    "name": "ipython",
    "version": 3
   },
   "file_extension": ".py",
   "mimetype": "text/x-python",
   "name": "python",
   "nbconvert_exporter": "python",
   "pygments_lexer": "ipython3",
   "version": "3.9.4"
  }
 },
 "nbformat": 4,
 "nbformat_minor": 5
}
