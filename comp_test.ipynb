{
 "cells": [
  {
   "cell_type": "code",
   "execution_count": 45,
   "id": "578c6d2b-9b8c-4b9e-bb6e-e370b04d1917",
   "metadata": {},
   "outputs": [],
   "source": [
    "import zlib\n",
    "import math\n",
    "import nltk\n",
    "import itertools\n",
    "import string\n",
    "import random\n",
    "import base64\n",
    "import unicodedata"
   ]
  },
  {
   "cell_type": "code",
   "execution_count": 70,
   "id": "b86d1c82-e16f-4dbb-99e9-0390df05a8f2",
   "metadata": {},
   "outputs": [
    {
     "name": "stdout",
     "output_type": "stream",
     "text": [
      "193813636406069426573129083747198422080663845634188243454133992\n",
      "b'apples and oranges'\n"
     ]
    }
   ],
   "source": [
    "a = zlib.compress(b'apples and oranges')\n",
    "# a = zlib.compress(b'a')\n",
    "# a[4] = 's'\n",
    "byteorder = 'big'\n",
    "# a = int.from_bytes(a, 'little') << 2\n",
    "num_bytes = len(a)\n",
    "a = int.from_bytes(a, byteorder)# + (2 ** 20)\n",
    "print(a)\n",
    "a = a.to_bytes(num_bytes, byteorder)\n",
    "# a = str(a).encode()\n",
    "print(zlib.decompress(a))\n",
    "\n",
    "b = zlib.compress(b'plums and pears')"
   ]
  },
  {
   "cell_type": "code",
   "execution_count": 142,
   "id": "49ba0758-09e3-4a0f-9156-2b7c8080fe3b",
   "metadata": {},
   "outputs": [],
   "source": [
    "z = zlib.compressobj(level=9)"
   ]
  },
  {
   "cell_type": "code",
   "execution_count": 150,
   "id": "15b856ef-9c3e-475b-b879-934d5cd24d59",
   "metadata": {},
   "outputs": [],
   "source": [
    "def int_comp(x):\n",
    "    return int.from_bytes(\n",
    "        zlib.compress(bytes(x, 'UTF-8')),\n",
    "        byteorder\n",
    "    )\n",
    "ic = int_comp"
   ]
  },
  {
   "cell_type": "code",
   "execution_count": 151,
   "id": "7a10e023-455f-453e-bd45-20d915c35561",
   "metadata": {},
   "outputs": [],
   "source": [
    "text = 'I have neither a fear, nor a presentiment, nor a hope of death. Why should I? With my hard constitution and temperate mode of living, and unperilous occupations, I ought to, and probably shall, remain above ground till there is scarcely a black hair on my head. And yet I cannot continue in this condition!'"
   ]
  },
  {
   "cell_type": "code",
   "execution_count": 159,
   "id": "6afd3617-2f15-43a8-841e-4964c2e406be",
   "metadata": {},
   "outputs": [
    {
     "name": "stdout",
     "output_type": "stream",
     "text": [
      "89969844122252241980381186095195172050569469965151240149639482176962088838920190096558819960905325208905812217904950943953502113426378303803304642506777097908971930726065173189352922458236329566791322186763510428348178170043958489050939420836046743665324658416259699581420836252112596159038647597305887914111972643555296082768712297263344701805744543073870101797328830763394214566635464365918376471246758956528495121523947620057892375527748000094549092698331954337020221378631585499856530758 23032280095296573946977583640369964044945784311078717478307707437302294742763568664719057909991763253479887927783667441652096541037152845773645988481734937064696814265872684336474348149308500369098578479811458669657133611531253373197040491734027966378323112554562483092843734080540824616713893784910307306012664996750155797188790348099416243662270603026910746060116180675428918929058678877675104376639170292871294751110130590734820448135103488024204567730772980310277176672929685871698782678490 -230322800952875769625653584161719259263362647938736605313111923132873307945458724558351658909821073714837973952627768604303060459427574955623033506513546066004461365560817871434017416319895650768527548468547795374384572604884185553800360958851228724362395078801959506270021081105826825330886825252944034412529344079587445999244348184911393724325442685567301716058087936652491860459823394562184408302025784552241700752144777412226680533730976987866517929307635254010073434774959838495609195199400143469242\n"
     ]
    }
   ],
   "source": [
    "m = ic(text)\n",
    "n = ic(text+' t')\n",
    "print(m, n, m-(n*(10**round(len(str(m/n))))))"
   ]
  },
  {
   "cell_type": "code",
   "execution_count": 2,
   "id": "75105696-1c0c-4d30-af32-e2e4a4aca797",
   "metadata": {},
   "outputs": [
    {
     "name": "stderr",
     "output_type": "stream",
     "text": [
      "[nltk_data] Downloading package gutenberg to\n",
      "[nltk_data]     C:\\Users\\diamo\\AppData\\Roaming\\nltk_data...\n",
      "[nltk_data]   Package gutenberg is already up-to-date!\n"
     ]
    },
    {
     "data": {
      "text/plain": [
       "True"
      ]
     },
     "execution_count": 2,
     "metadata": {},
     "output_type": "execute_result"
    }
   ],
   "source": [
    "nltk.download('gutenberg')"
   ]
  },
  {
   "cell_type": "code",
   "execution_count": 3,
   "id": "8573e2e8-d67a-4177-ada7-41202e8db2e5",
   "metadata": {},
   "outputs": [
    {
     "name": "stdout",
     "output_type": "stream",
     "text": [
      "[The Tragedie of Hamlet by William Shakespeare 1599]\n",
      "\n",
      "\n",
      "Actus Primus. Scoena Prima.\n",
      "\n",
      "Enter Barnardo a\n"
     ]
    }
   ],
   "source": [
    "hamlet = nltk.corpus.gutenberg.raw('shakespeare-hamlet.txt')\n",
    "# hamlet = ' '.join(words)\n",
    "print(hamlet[:100])"
   ]
  },
  {
   "cell_type": "code",
   "execution_count": 80,
   "id": "2d548e83-7421-433a-9e2f-c518340c3b1a",
   "metadata": {},
   "outputs": [
    {
     "name": "stdout",
     "output_type": "stream",
     "text": [
      "9044\n",
      "['È', ';', '6', '¡', '~', 'Ý', '+', '¢', '¥', 'Ö', '¨', 'ü', '(', 'ù', '%', 'ô', 'î', 'ª', 'ø', '¾']\n"
     ]
    }
   ],
   "source": [
    "chars = string.punctuation + string.digits# + string.ascii_letters\n",
    "chars = list(chars) + [chr(n) for n in range(161, 256)]\n",
    "chars = set(chars) - set(['\"', \"'\", '\\\\', '&'])\n",
    "replacements = []\n",
    "for l in range(1, 3):\n",
    "    spans = [''.join(c) for c in itertools.combinations_with_replacement(chars, r=l)]\n",
    "    random.shuffle(spans)\n",
    "    replacements.extend(spans)\n",
    "print(len(replacements))\n",
    "print(replacements[:20])\n",
    "# random.shuffle(replacements)\n"
   ]
  },
  {
   "cell_type": "code",
   "execution_count": 6,
   "id": "b50a8dc8-3232-4909-af7f-725f95430cd0",
   "metadata": {},
   "outputs": [],
   "source": [
    "# replacements[:100]"
   ]
  },
  {
   "cell_type": "code",
   "execution_count": 56,
   "id": "bacec3b1-2504-4118-87c4-c82153b7c43a",
   "metadata": {
    "tags": []
   },
   "outputs": [],
   "source": [
    "def compress(input_text, log=False, window_size=(2, 10, 1), separator='&'):\n",
    "    sections = {}\n",
    "    w = 0\n",
    "    reps = []\n",
    "    checked = []\n",
    "    \n",
    "    original = input_text\n",
    "    compressed = input_text\n",
    "    \n",
    "    for k in range(5):\n",
    "        print(f'Compression pass {k+1}')\n",
    "        for i in range(*window_size):\n",
    "            if log:\n",
    "                print(f'Scanning sequences of length {i}')\n",
    "            for j in range(0, len(compressed)-i):\n",
    "                window = compressed[j:j+i]\n",
    "                if window and window not in checked and compressed.count(window) > 1 and window not in sections.values():\n",
    "                    for rep in replacements:\n",
    "                        if rep not in compressed and len(window) > len(rep)+len(separator):\n",
    "                            sections[w] = window\n",
    "                            reps.append(rep)\n",
    "                            w += 1\n",
    "                #             print(window)\n",
    "        #                     r = f'[{w}]'\n",
    "                            compressed = compressed.replace(window, rep+separator)\n",
    "                            break\n",
    "                checked.append(window)\n",
    "            if log:\n",
    "                print(len(compressed))\n",
    "    return compressed, reps, sections"
   ]
  },
  {
   "cell_type": "code",
   "execution_count": 57,
   "id": "a2f6196c-f857-4ab4-bc36-946eb67e445c",
   "metadata": {},
   "outputs": [],
   "source": [
    "def decompress(input_text, reps, sections, separator='&'):\n",
    "    for i, r in enumerate(reps[::-1]):\n",
    "        input_text = input_text.replace(r+separator, sections[len(reps)-i-1])\n",
    "    return input_text"
   ]
  },
  {
   "cell_type": "code",
   "execution_count": 103,
   "id": "1464dda2-c1e7-414c-9f49-744d9c074b61",
   "metadata": {},
   "outputs": [
    {
     "name": "stdout",
     "output_type": "stream",
     "text": [
      "Compression pass 1\n",
      "Compression pass 2\n",
      "Compression pass 3\n",
      "Compression pass 4\n",
      "Compression pass 5\n",
      "grÈ+¡6Èpl+peach+and ¡\n",
      "grapes, bananas, apples, peaches, and bananas\n"
     ]
    }
   ],
   "source": [
    "argdict = {\n",
    "    'separator': ''\n",
    "}\n",
    "a, r, s = compress('grapes, bananas, apples, peaches, and bananas', window_size=(2, 10, 1), **argdict)\n",
    "print(a)\n",
    "print(decompress(a, r, s, **argdict))"
   ]
  },
  {
   "cell_type": "code",
   "execution_count": 106,
   "id": "9ccf6f79-7e42-4dc7-8bff-946f3537d5a7",
   "metadata": {},
   "outputs": [
    {
     "data": {
      "text/plain": [
       "'grapes, bananas, apples, peaches, and bananas'"
      ]
     },
     "execution_count": 106,
     "metadata": {},
     "output_type": "execute_result"
    }
   ],
   "source": [
    "decompress('grÈ+¡6Èpl+peach+and ¡', r, s, **argdict)"
   ]
  },
  {
   "cell_type": "code",
   "execution_count": 108,
   "id": "7c6636bf-b9d7-491f-874c-78802fb76bd7",
   "metadata": {
    "collapsed": true,
    "jupyter": {
     "outputs_hidden": true
    },
    "tags": []
   },
   "outputs": [
    {
     "name": "stdout",
     "output_type": "stream",
     "text": [
      "Compression pass 1\n",
      "Scanning sequences of length 2\n",
      "456\n",
      "Scanning sequences of length 3\n",
      "442\n",
      "Scanning sequences of length 4\n",
      "442\n",
      "Scanning sequences of length 5\n",
      "442\n",
      "Scanning sequences of length 6\n",
      "442\n",
      "Scanning sequences of length 7\n",
      "442\n",
      "Scanning sequences of length 8\n",
      "442\n",
      "Scanning sequences of length 9\n",
      "442\n",
      "Scanning sequences of length 10\n",
      "442\n",
      "Scanning sequences of length 11\n",
      "442\n",
      "Scanning sequences of length 12\n",
      "442\n",
      "Scanning sequences of length 13\n",
      "442\n",
      "Scanning sequences of length 14\n",
      "442\n",
      "Scanning sequences of length 15\n",
      "442\n",
      "Scanning sequences of length 16\n",
      "442\n",
      "Scanning sequences of length 17\n",
      "442\n",
      "Scanning sequences of length 18\n",
      "442\n",
      "Scanning sequences of length 19\n",
      "442\n",
      "Compression pass 2\n",
      "Scanning sequences of length 2\n",
      "430\n",
      "Scanning sequences of length 3\n",
      "430\n",
      "Scanning sequences of length 4\n",
      "430\n",
      "Scanning sequences of length 5\n",
      "430\n",
      "Scanning sequences of length 6\n",
      "430\n",
      "Scanning sequences of length 7\n",
      "430\n",
      "Scanning sequences of length 8\n",
      "430\n",
      "Scanning sequences of length 9\n",
      "430\n",
      "Scanning sequences of length 10\n",
      "430\n",
      "Scanning sequences of length 11\n",
      "430\n",
      "Scanning sequences of length 12\n",
      "430\n",
      "Scanning sequences of length 13\n",
      "430\n",
      "Scanning sequences of length 14\n",
      "430\n",
      "Scanning sequences of length 15\n",
      "430\n",
      "Scanning sequences of length 16\n",
      "430\n",
      "Scanning sequences of length 17\n",
      "430\n",
      "Scanning sequences of length 18\n",
      "430\n",
      "Scanning sequences of length 19\n",
      "430\n",
      "Compression pass 3\n",
      "Scanning sequences of length 2\n",
      "430\n",
      "Scanning sequences of length 3\n",
      "430\n",
      "Scanning sequences of length 4\n",
      "430\n",
      "Scanning sequences of length 5\n",
      "430\n",
      "Scanning sequences of length 6\n",
      "430\n",
      "Scanning sequences of length 7\n",
      "430\n",
      "Scanning sequences of length 8\n",
      "430\n",
      "Scanning sequences of length 9\n",
      "430\n",
      "Scanning sequences of length 10\n",
      "430\n",
      "Scanning sequences of length 11\n",
      "430\n",
      "Scanning sequences of length 12\n",
      "430\n",
      "Scanning sequences of length 13\n",
      "430\n",
      "Scanning sequences of length 14\n",
      "430\n",
      "Scanning sequences of length 15\n",
      "430\n",
      "Scanning sequences of length 16\n",
      "430\n",
      "Scanning sequences of length 17\n",
      "430\n",
      "Scanning sequences of length 18\n",
      "430\n",
      "Scanning sequences of length 19\n",
      "430\n",
      "Compression pass 4\n",
      "Scanning sequences of length 2\n",
      "430\n",
      "Scanning sequences of length 3\n",
      "430\n",
      "Scanning sequences of length 4\n",
      "430\n",
      "Scanning sequences of length 5\n",
      "430\n",
      "Scanning sequences of length 6\n",
      "430\n",
      "Scanning sequences of length 7\n",
      "430\n",
      "Scanning sequences of length 8\n",
      "430\n",
      "Scanning sequences of length 9\n",
      "430\n",
      "Scanning sequences of length 10\n",
      "430\n",
      "Scanning sequences of length 11\n",
      "430\n",
      "Scanning sequences of length 12\n",
      "430\n",
      "Scanning sequences of length 13\n",
      "430\n",
      "Scanning sequences of length 14\n",
      "430\n",
      "Scanning sequences of length 15\n",
      "430\n",
      "Scanning sequences of length 16\n",
      "430\n",
      "Scanning sequences of length 17\n",
      "430\n",
      "Scanning sequences of length 18\n",
      "430\n",
      "Scanning sequences of length 19\n",
      "430\n",
      "Compression pass 5\n",
      "Scanning sequences of length 2\n",
      "430\n",
      "Scanning sequences of length 3\n",
      "430\n",
      "Scanning sequences of length 4\n",
      "430\n",
      "Scanning sequences of length 5\n",
      "430\n",
      "Scanning sequences of length 6\n",
      "430\n",
      "Scanning sequences of length 7\n",
      "430\n",
      "Scanning sequences of length 8\n",
      "430\n",
      "Scanning sequences of length 9\n",
      "430\n",
      "Scanning sequences of length 10\n",
      "430\n",
      "Scanning sequences of length 11\n",
      "430\n",
      "Scanning sequences of length 12\n",
      "430\n",
      "Scanning sequences of length 13\n",
      "430\n",
      "Scanning sequences of length 14\n",
      "430\n",
      "Scanning sequences of length 15\n",
      "430\n",
      "Scanning sequences of length 16\n",
      "430\n",
      "Scanning sequences of length 17\n",
      "430\n",
      "Scanning sequences of length 18\n",
      "430\n",
      "Scanning sequences of length 19\n",
      "430\n",
      "[The Tragedie of Hamlet by William Shakespeare 1599]\n",
      "\n",
      "\n",
      "Actus Primus. Scoena Prima.\n",
      "\n",
      "Enter Barnardo and Francisco two Centinels.\n",
      "\n",
      "  Barnardo. Who's there?\n",
      "  Fran. Nay answer me: Stand & vnfold\n",
      "your selfe\n",
      "\n",
      "   Bar. Long liue the King\n",
      "\n",
      "   Fran. Barnardo?\n",
      "  Bar. He\n",
      "\n",
      "   Fran. You come most carefully vpon your houre\n",
      "\n",
      "   Bar. 'Tis now strook twelue, get thee to bed Francisco\n",
      "\n",
      "   Fran. For this releefe much thankes: 'Tis bitter cold,\n",
      "And I am sicke at heart\n",
      "\n",
      "   Barn. Haue you had quiet Guard?\n",
      "  Fran. Not \n",
      "\n",
      "\n",
      "\n",
      " [TÈ T;6¡~Ý+¢¥Öb÷iüi(Sùþôî~1599]ªøct¾Óï$ÆÌaÓa²Þ©æÇÒÜÑ0w*CÌé°Ïå!»ñý#úa¨ansè{£:× & vnf­d\n",
      "ì¹self¦2¸±Ég `ê/ K@Ú4!< ¸+¦4 Yã ÆmÛoëcî|uü¨vpÉµ¹¬u#û¸ðnow }r§k0Õueß6Ö/~t*bedÑ¼Ão{õ7#¥|Ûuó0ùnþ:ð¤t©Æld,ø=8(sicçaÖ?>¶´aà¯ùÀquieÖGuîdúoÖaØo¾~sér½nÚ2¶»eüß)ÿ®Ifµ¯« £et%Ü\n",
      "·¾,äRiuaÏ Ý³÷atóß¤dým³açù}.\n",
      "ÞÎr%=·ïªÂÊ IÄ@ç8?~/m.×: wñ^.Ã½ÌdsáÄ7grãÜûâöÜ±ei6-mÌáäDa°¼ GÙºÀn_h>â®O fîÕ ¬°ëS­¡erßwh*ùõ #`eu'dµu3;.! ùÁ³¨plaò: gÙºÿ²ExiÖFÅåâ´oüa!û¸$ayßwùÖisÐo^ö ôec~Ý \n",
      "\n",
      "\n",
      "\n",
      "\n",
      "[The Tragedie of Hamlet by William Shakespeare 1599]\n",
      "\n",
      "\n",
      "Actus Primus. Scoena Prima.\n",
      "\n",
      "Enter Barnardo and Francisco two Centinels.\n",
      "\n",
      "  Barnardo. Who's there?\n",
      "  Fran. Nay answer me: Stand & vnfold\n",
      "your selfe\n",
      "\n",
      "   Bar. Long liue the King\n",
      "\n",
      "   Fran. Barnardo?\n",
      "  Bar. He\n",
      "\n",
      "   Fran. You come most carefully vpon your houre\n",
      "\n",
      "   Bar. 'Tis now strook twelue, get thee to bed Francisco\n",
      "\n",
      "   Fran. For this releefe much thankes: 'Tis bitter cold,\n",
      "And I am sicke at heart\n",
      "\n",
      "   Barn. Haue you had quiet Guard?\n",
      "  Fran. Not a Mouse stirring\n",
      "\n",
      "   Barn. Well, goodnight. If you do meet Horatio and\n",
      "Marcellus, the Riuals of my Watch, bid them make hast.\n",
      "Enter Horatio and Marcellus.\n",
      "\n",
      "  Fran. I thinke I heare them. Stand: who's there?\n",
      "  Hor. Friends to this ground\n",
      "\n",
      "   Mar. And Leige-men to the Dane\n",
      "\n",
      "   Fran. Giue you good night\n",
      "\n",
      "   Mar. O farwel honest Soldier, who hath relieu'd you?\n",
      "  Fra. Barnardo ha's my place: giue you goodnight.\n",
      "\n",
      "Exit Fran.\n",
      "\n",
      "  Mar. Holla Barnardo\n",
      "\n",
      "   Bar. Say, what is Horatio there?\n",
      "  Hor. A peece of\n"
     ]
    }
   ],
   "source": [
    "s = 500\n",
    "h = hamlet[:1000]\n",
    "wa = (2, 20, 1)\n",
    "wb = (10, 2, -1)\n",
    "compressed, reps, sections = compress(h, window_size=wa, log=True, **argdict)\n",
    "original = h\n",
    "print(original[:s], '\\n'*4, compressed[:], '\\n'*4)\n",
    "print(decompress(compressed, reps, sections, **argdict))"
   ]
  },
  {
   "cell_type": "code",
   "execution_count": 344,
   "id": "fb889610-efa4-4854-9c58-f66bce847af8",
   "metadata": {},
   "outputs": [
    {
     "data": {
      "text/plain": [
       "b'eJxVk0tv20AMhO/6FTw1F1dADz0kl8B9JA6atEVtIAiKHpgVJS2yWrr7iOt/31nJD+UiSFpqOPw4+r3phTaBO2mskLa04sFJouc9PVrnLA+07vlF4lY4CH34eHn5p6qqpUk50s9ghxxrWhsVz+Mj11X11ScJ9ImD59AosW/oJrA3NhqltFP6LD5ZLy6imE6FNT32ehEp9RLkGgflo5q+8x4ScQfJQa5onYreO3r1rbqm2msOFMW1UqSKVk336jtyNkuRom/Wd+PZJHfsdl0dqlcyO33STEYHoUFjIoOR2+zcnl636mns1eMy63WxsZG87iimoPqC8cRlWVAHhugOC0rPMgMwa3ajATX4PogTadE0mx5v2IP31ST9bFOBaTDrolpi8jvCSqI1L0KcqMdW0tENJFeMqeGTem7ob7ZwcZsx7gynJmJ60BwFnm0IRzyTwKM4B/eqjbddn2q6a0c97HEQqK00cLLjUqsHDgblOS5G0L9sZhdLhgaEh5PpF7DflLOBBmQIpmKqD/GYCdFJaMzD5POuoAEI3PRj9IpMPa3/inZvkwIx4AxWfBML8ZFqFzTDZZntoayq0LsX28n7QfxUJfSF/Xz/t/bArxCgEcFZ4Ae1HLBfZMAL4rHGUqyERXGD2VJfFmklXzRF4oD8nDiUwDPYbB0bJLmb95po49/5Z9PkpfQd267UOT6pnKO35n1pjRRg2CPOt0iWtBUx5b/+D2AfREs='"
      ]
     },
     "execution_count": 344,
     "metadata": {},
     "output_type": "execute_result"
    }
   ],
   "source": [
    "enc = 'UTF-8'\n",
    "c = zlib.compress(original.encode(enc))#.decode(enc)\n",
    "base64.b64encode(c)"
   ]
  },
  {
   "cell_type": "code",
   "execution_count": 67,
   "id": "75143a4c-0868-4054-9eeb-56beaabf4efb",
   "metadata": {},
   "outputs": [],
   "source": [
    "reconstructed = compressed\n",
    "# u = random.randint(0, len(reconstructed))\n",
    "# reconstructed = reconstructed[:u] + '?' + reconstructed[u:]"
   ]
  },
  {
   "cell_type": "code",
   "execution_count": 124,
   "id": "407f664c-7954-411b-b97f-4b6166526113",
   "metadata": {},
   "outputs": [
    {
     "name": "stdout",
     "output_type": "stream",
     "text": [
      "[\n",
      "\n",
      "   Fran.. W Tue yor die ou Hreue yoe m. H Franciscohellcham \n",
      "Ahakespearam ht5  Hois    Fran.\n",
      "\n",
      "\n",
      "Ape\n",
      "\n",
      "  ur g\n",
      "\n",
      "Marcee olene m Prim Mar.\n",
      "\n",
      "Enter . nardo ay W StandBaro a Mar Mareniue yo yoolam  Barnardo. Wu rape?\n",
      "  Fran. N. Wy antiweoo Franciscoli Stand & Svu pe SonMarcellyour s?\n",
      "  Fy W the\n",
      "\n",
      "   t L?\n",
      "  Fran. Nam coli Standthee ke  tge   Fran. Barnardo. Aam Bar.5y    Fran.  td iue yo aliraohocoe mtiralllehtd on your houdo\n",
      "\n",
      "   Bar. 'Tis is , w ourook t Prim aranyoget thee g\n",
      "\n",
      "o beteran.  Fo Barnardothis releene mus.r  tlsy Wdoiue yoy W:tst Primlid,pend I Bar Franciscoarce  Horatio au goohearhear Barngooue yoMarcellhad dnightoliey ran FranciscoardEnot ou Barnous  wetirring\n",
      "\n",
      "of Barn. Wendue goora. oune yo:u Barmeete 9riam. Ater  the o aiuals am .ra  ch, bid them make  the styoI ue yoigr1nd dnightou\n",
      "\n",
      "dnightran. me th.\n",
      "\n",
      "ke geheare iue yohtndus.y W ranho's th. Fri]ds. Hmeis ke hayond\n",
      "\n",
      "  ne. A t1ey Wgeur m. Hha the Daen Francisco Standpeu gooam nofhtt\n",
      "\n",
      "   March  F lemewel.\n",
      "\n",
      " neig tooldier, hlehath redo.nardo Lstinu yo S.d llha'st\n",
      "\n",
      "  o apinay W:welMarce.\n",
      "\n",
      "  'Tis [.\n",
      "\n",
      "]xtet F Marlith Barno. a Barnardoin Bar. Say, tihat ho'ss:o there?\n",
      "  Hor. A welran.  Hogeter we\n"
     ]
    }
   ],
   "source": [
    "def detach(text, x, f=''):\n",
    "    return text[:x] + f + text[x+1:]\n",
    "\n",
    "variations = []\n",
    "for i in range(10):\n",
    "    newstring = compressed\n",
    "    for j in range(random.randint(1, 400)):\n",
    "        c = random.choice(list(chars)+['']*2)\n",
    "        newstring = detach(newstring, random.randint(0, len(newstring)), c)\n",
    "    variations.append(newstring)\n",
    "\n",
    "reconstructed = variations[0]\n",
    "\n",
    "print(decompress(reconstructed[:s], reps, sections, **argdict))\n",
    "# todo: sort by frequency"
   ]
  },
  {
   "cell_type": "code",
   "execution_count": 208,
   "id": "9aa101b4-3fd7-4187-9ce9-ac2d7f1e9987",
   "metadata": {},
   "outputs": [
    {
     "data": {
      "text/plain": [
       "162881"
      ]
     },
     "execution_count": 208,
     "metadata": {},
     "output_type": "execute_result"
    }
   ],
   "source": [
    "len(hamlet)"
   ]
  }
 ],
 "metadata": {
  "kernelspec": {
   "display_name": "Python 3",
   "language": "python",
   "name": "python3"
  },
  "language_info": {
   "codemirror_mode": {
    "name": "ipython",
    "version": 3
   },
   "file_extension": ".py",
   "mimetype": "text/x-python",
   "name": "python",
   "nbconvert_exporter": "python",
   "pygments_lexer": "ipython3",
   "version": "3.9.4"
  }
 },
 "nbformat": 4,
 "nbformat_minor": 5
}
